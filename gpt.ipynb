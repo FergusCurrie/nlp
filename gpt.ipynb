{
 "cells": [
  {
   "cell_type": "markdown",
   "id": "191b5219-2af8-41a5-ac96-cd9f27601bb2",
   "metadata": {
    "tags": []
   },
   "source": [
    "# GPT with character level embeddings on small shakespear dataset"
   ]
  },
  {
   "cell_type": "markdown",
   "id": "27db1859-48ea-432f-8e40-39b5075c6314",
   "metadata": {},
   "source": [
    "# Preprocesing \n",
    "\n",
    "1. Tokenize: string -> chars \n",
    "2. Numeracilisation: chars -> index \n",
    "3. Sample context_length chunks from data.\n",
    "4. Each context_length chunk has context_length training examples. predict token_i with tokens_{<i}\n",
    "5. "
   ]
  },
  {
   "cell_type": "code",
   "execution_count": 1,
   "id": "b5dcf6c3-3589-441f-8e7a-3461990fdb6d",
   "metadata": {},
   "outputs": [
    {
     "name": "stdout",
     "output_type": "stream",
     "text": [
      "['\\n', ' ', '!', '$', '&', \"'\", ',', '-', '.', '3', ':', ';', '?', 'A', 'B', 'C', 'D', 'E', 'F', 'G', 'H', 'I', 'J', 'K', 'L', 'M', 'N', 'O', 'P', 'Q', 'R', 'S', 'T', 'U', 'V', 'W', 'X', 'Y', 'Z', 'a', 'b', 'c', 'd', 'e', 'f', 'g', 'h', 'i', 'j', 'k', 'l', 'm', 'n', 'o', 'p', 'q', 'r', 's', 't', 'u', 'v', 'w', 'x', 'y', 'z']\n",
      "65\n"
     ]
    }
   ],
   "source": [
    "# https://www.youtube.com/watch?v=kCc8FmEb1nY&ab_channel=AndrejKarpathy\n",
    "import torch\n",
    "\n",
    "# Load dataset\n",
    "with open(\"data/shakespear.txt\") as fn:\n",
    "    text = fn.read()\n",
    "\n",
    "# Get unique lsit\n",
    "chars = sorted(list(set(text)))\n",
    "\n",
    "vocab_size = len(chars)\n",
    "print(chars)\n",
    "print(len(chars))\n"
   ]
  },
  {
   "cell_type": "code",
   "execution_count": 2,
   "id": "e732195c-bddc-43da-9dd0-f35ef9533ad0",
   "metadata": {},
   "outputs": [
    {
     "name": "stdout",
     "output_type": "stream",
     "text": [
      "[46, 43, 50, 50, 53]\n",
      "['h', 'e', 'l', 'l', 'o']\n"
     ]
    }
   ],
   "source": [
    "# Tokenize. Chars -> intergers/index\n",
    "s2i = {ch: i for i, ch in enumerate(chars)}\n",
    "i2s = {i: ch for i, ch in enumerate(chars)}\n",
    "encode = lambda x: [s2i[ch] for ch in x]\n",
    "decode = lambda x: [i2s[i] for i in x]\n",
    "\n",
    "print(encode(\"hello\"))\n",
    "print(decode(encode(\"hello\")))\n"
   ]
  },
  {
   "cell_type": "code",
   "execution_count": 3,
   "id": "81e56715-0275-4fe1-b302-9933cd51e201",
   "metadata": {},
   "outputs": [
    {
     "name": "stdout",
     "output_type": "stream",
     "text": [
      "torch.Size([1115393])\n",
      "tensor([18, 47, 56, 57, 58,  1, 15, 47, 58, 47, 64, 43, 52, 10,  0, 14, 43, 44,\n",
      "        53, 56, 43,  1, 61, 43,  1, 54, 56, 53, 41, 43, 43, 42,  1, 39, 52, 63,\n",
      "         1, 44, 59, 56, 58, 46, 43, 56,  6,  1, 46, 43, 39, 56,  1, 51, 43,  1,\n",
      "        57, 54, 43, 39, 49,  8,  0,  0, 13, 50, 50, 10,  0, 31, 54, 43, 39, 49,\n",
      "         6,  1, 57, 54, 43, 39, 49,  8,  0,  0, 18, 47, 56, 57, 58,  1, 15, 47,\n",
      "        58, 47, 64, 43, 52, 10,  0, 37, 53, 59,  1, 39, 56, 43,  1, 39, 50, 50,\n",
      "         1, 56, 43, 57, 53, 50, 60, 43, 42,  1, 56, 39, 58, 46, 43, 56,  1, 58,\n",
      "        53,  1, 42, 47, 43,  1, 58, 46, 39, 52,  1, 58, 53,  1, 44, 39, 51, 47,\n",
      "        57, 46, 12,  0,  0, 13, 50, 50, 10,  0, 30, 43, 57, 53, 50, 60, 43, 42,\n",
      "         8,  1, 56, 43, 57, 53, 50, 60, 43, 42,  8,  0,  0, 18, 47, 56, 57, 58,\n",
      "         1, 15, 47, 58, 47, 64, 43, 52, 10,  0, 18, 47, 56, 57, 58,  6,  1, 63,\n",
      "        53, 59,  1, 49, 52, 53, 61,  1, 15, 39, 47, 59, 57,  1, 25, 39, 56, 41,\n",
      "        47, 59, 57,  1, 47, 57,  1, 41, 46, 47, 43, 44,  1, 43, 52, 43, 51, 63,\n",
      "         1, 58, 53,  1, 58, 46, 43,  1, 54, 43, 53, 54, 50, 43,  8,  0,  0, 13,\n",
      "        50, 50, 10,  0, 35, 43,  1, 49, 52, 53, 61,  5, 58,  6,  1, 61, 43,  1,\n",
      "        49, 52, 53, 61,  5, 58,  8,  0,  0, 18, 47, 56, 57, 58,  1, 15, 47, 58,\n",
      "        47, 64, 43, 52, 10,  0, 24, 43, 58,  1, 59, 57,  1, 49, 47, 50, 50,  1,\n",
      "        46, 47, 51,  6,  1, 39, 52, 42,  1, 61, 43,  5, 50, 50,  1, 46, 39, 60,\n",
      "        43,  1, 41, 53, 56, 52,  1, 39, 58,  1, 53, 59, 56,  1, 53, 61, 52,  1,\n",
      "        54, 56, 47, 41, 43,  8,  0, 21, 57,  5, 58,  1, 39,  1, 60, 43, 56, 42,\n",
      "        47, 41, 58, 12,  0,  0, 13, 50, 50, 10,  0, 26, 53,  1, 51, 53, 56, 43,\n",
      "         1, 58, 39, 50, 49, 47, 52, 45,  1, 53, 52,  5, 58, 11,  1, 50, 43, 58,\n",
      "         1, 47, 58,  1, 40, 43,  1, 42, 53, 52, 43, 10,  1, 39, 61, 39, 63,  6,\n",
      "         1, 39, 61, 39, 63,  2,  0,  0, 31, 43, 41, 53, 52, 42,  1, 15, 47, 58,\n",
      "        47, 64, 43, 52, 10,  0, 27, 52, 43,  1, 61, 53, 56, 42,  6,  1, 45, 53,\n",
      "        53, 42,  1, 41, 47, 58, 47, 64, 43, 52, 57,  8,  0,  0, 18, 47, 56, 57,\n",
      "        58,  1, 15, 47, 58, 47, 64, 43, 52, 10,  0, 35, 43,  1, 39, 56, 43,  1,\n",
      "        39, 41, 41, 53, 59, 52, 58, 43, 42,  1, 54, 53, 53, 56,  1, 41, 47, 58,\n",
      "        47, 64, 43, 52, 57,  6,  1, 58, 46, 43,  1, 54, 39, 58, 56, 47, 41, 47,\n",
      "        39, 52, 57,  1, 45, 53, 53, 42,  8,  0, 35, 46, 39, 58,  1, 39, 59, 58,\n",
      "        46, 53, 56, 47, 58, 63,  1, 57, 59, 56, 44, 43, 47, 58, 57,  1, 53, 52,\n",
      "         1, 61, 53, 59, 50, 42,  1, 56, 43, 50, 47, 43, 60, 43,  1, 59, 57, 10,\n",
      "         1, 47, 44,  1, 58, 46, 43, 63,  0, 61, 53, 59, 50, 42,  1, 63, 47, 43,\n",
      "        50, 42,  1, 59, 57,  1, 40, 59, 58,  1, 58, 46, 43,  1, 57, 59, 54, 43,\n",
      "        56, 44, 50, 59, 47, 58, 63,  6,  1, 61, 46, 47, 50, 43,  1, 47, 58,  1,\n",
      "        61, 43, 56, 43,  0, 61, 46, 53, 50, 43, 57, 53, 51, 43,  6,  1, 61, 43,\n",
      "         1, 51, 47, 45, 46, 58,  1, 45, 59, 43, 57, 57,  1, 58, 46, 43, 63,  1,\n",
      "        56, 43, 50, 47, 43, 60, 43, 42,  1, 59, 57,  1, 46, 59, 51, 39, 52, 43,\n",
      "        50, 63, 11,  0, 40, 59, 58,  1, 58, 46, 43, 63,  1, 58, 46, 47, 52, 49,\n",
      "         1, 61, 43,  1, 39, 56, 43,  1, 58, 53, 53,  1, 42, 43, 39, 56, 10,  1,\n",
      "        58, 46, 43,  1, 50, 43, 39, 52, 52, 43, 57, 57,  1, 58, 46, 39, 58,  0,\n",
      "        39, 44, 44, 50, 47, 41, 58, 57,  1, 59, 57,  6,  1, 58, 46, 43,  1, 53,\n",
      "        40, 48, 43, 41, 58,  1, 53, 44,  1, 53, 59, 56,  1, 51, 47, 57, 43, 56,\n",
      "        63,  6,  1, 47, 57,  1, 39, 57,  1, 39, 52,  0, 47, 52, 60, 43, 52, 58,\n",
      "        53, 56, 63,  1, 58, 53,  1, 54, 39, 56, 58, 47, 41, 59, 50, 39, 56, 47,\n",
      "        57, 43,  1, 58, 46, 43, 47, 56,  1, 39, 40, 59, 52, 42, 39, 52, 41, 43,\n",
      "        11,  1, 53, 59, 56,  0, 57, 59, 44, 44, 43, 56, 39, 52, 41, 43,  1, 47,\n",
      "        57,  1, 39,  1, 45, 39, 47, 52,  1, 58, 53,  1, 58, 46, 43, 51,  1, 24,\n",
      "        43, 58,  1, 59, 57,  1, 56, 43, 60, 43, 52, 45, 43,  1, 58, 46, 47, 57,\n",
      "         1, 61, 47, 58, 46,  0, 53, 59, 56,  1, 54, 47, 49, 43, 57,  6,  1, 43,\n",
      "        56, 43,  1, 61, 43,  1, 40, 43, 41, 53, 51, 43,  1, 56, 39, 49, 43, 57,\n",
      "        10,  1, 44, 53, 56,  1, 58, 46, 43,  1, 45, 53, 42, 57,  1, 49, 52, 53,\n",
      "        61,  1, 21,  0, 57, 54, 43, 39, 49,  1, 58, 46, 47, 57,  1, 47, 52,  1,\n",
      "        46, 59, 52, 45, 43, 56,  1, 44, 53, 56,  1, 40, 56, 43, 39, 42,  6,  1,\n",
      "        52, 53, 58,  1, 47, 52,  1, 58, 46, 47, 56, 57, 58,  1, 44, 53, 56,  1,\n",
      "        56, 43, 60, 43, 52, 45, 43,  8,  0,  0])\n"
     ]
    }
   ],
   "source": [
    "# Tokenize whole training set\n",
    "data = torch.tensor(encode(text), dtype=torch.long)\n",
    "print(data.shape)\n",
    "print(data[:1000])\n",
    "\n",
    "# Train/val\n",
    "n = int(0.9 * len(data))\n",
    "train_data = data[:n]\n",
    "val_data = data[n:]"
   ]
  },
  {
   "cell_type": "markdown",
   "id": "ba882612-ed7f-4e72-a477-5e728a4642c7",
   "metadata": {},
   "source": [
    "How we grab an input:"
   ]
  },
  {
   "cell_type": "code",
   "execution_count": 4,
   "id": "26b6a6f4-ce2b-4b88-8202-ba494b0617ee",
   "metadata": {},
   "outputs": [
    {
     "name": "stdout",
     "output_type": "stream",
     "text": [
      "tensor([18, 47, 56, 57, 58,  1, 15, 47, 58])\n"
     ]
    }
   ],
   "source": [
    "context_length = 8\n",
    "print(train_data[: context_length + 1])"
   ]
  },
  {
   "cell_type": "markdown",
   "id": "5aecd1af-f66a-412e-99ee-9a5907409322",
   "metadata": {},
   "source": [
    "Example of how it's auto regressive"
   ]
  },
  {
   "cell_type": "code",
   "execution_count": 5,
   "id": "54798b9e-5e9d-41bd-931c-c245cca9c116",
   "metadata": {},
   "outputs": [
    {
     "name": "stdout",
     "output_type": "stream",
     "text": [
      "using input tensor([18]) the target is : 47\n",
      "using input tensor([18, 47]) the target is : 56\n",
      "using input tensor([18, 47, 56]) the target is : 57\n",
      "using input tensor([18, 47, 56, 57]) the target is : 58\n",
      "using input tensor([18, 47, 56, 57, 58]) the target is : 1\n",
      "using input tensor([18, 47, 56, 57, 58,  1]) the target is : 15\n",
      "using input tensor([18, 47, 56, 57, 58,  1, 15]) the target is : 47\n",
      "using input tensor([18, 47, 56, 57, 58,  1, 15, 47]) the target is : 58\n"
     ]
    }
   ],
   "source": [
    "x = train_data[:context_length]\n",
    "y = train_data[1:context_length+1]\n",
    "for t in range(context_length):\n",
    "    context = x[:t+1]\n",
    "    target = y[t]\n",
    "    print(f\"using input {context} the target is : {target}\")\n",
    "    "
   ]
  },
  {
   "cell_type": "markdown",
   "id": "b4b43b36-389b-4bc7-ae3f-74d5e8f920b4",
   "metadata": {},
   "source": [
    "sample minibatch: notice input encodes autoregressive style inputs"
   ]
  },
  {
   "cell_type": "code",
   "execution_count": 6,
   "id": "25eb2f84-bfc1-4120-991a-876f500a2ac5",
   "metadata": {},
   "outputs": [
    {
     "name": "stdout",
     "output_type": "stream",
     "text": [
      "inputs:\n",
      "torch.Size([4, 8])\n",
      "tensor([[53, 59,  6,  1, 58, 56, 47, 40],\n",
      "        [49, 43, 43, 54,  1, 47, 58,  1],\n",
      "        [13, 52, 45, 43, 50, 53,  8,  0],\n",
      "        [ 1, 39,  1, 46, 53, 59, 57, 43]])\n",
      "targets:\n",
      "torch.Size([4, 8])\n",
      "tensor([[59,  6,  1, 58, 56, 47, 40, 59],\n",
      "        [43, 43, 54,  1, 47, 58,  1, 58],\n",
      "        [52, 45, 43, 50, 53,  8,  0, 26],\n",
      "        [39,  1, 46, 53, 59, 57, 43,  0]])\n",
      "----\n",
      "when input is [53] the target: 59\n",
      "when input is [53, 59] the target: 6\n",
      "when input is [53, 59, 6] the target: 1\n",
      "when input is [53, 59, 6, 1] the target: 58\n",
      "when input is [53, 59, 6, 1, 58] the target: 56\n",
      "when input is [53, 59, 6, 1, 58, 56] the target: 47\n",
      "when input is [53, 59, 6, 1, 58, 56, 47] the target: 40\n",
      "when input is [53, 59, 6, 1, 58, 56, 47, 40] the target: 59\n",
      "when input is [49] the target: 43\n",
      "when input is [49, 43] the target: 43\n",
      "when input is [49, 43, 43] the target: 54\n",
      "when input is [49, 43, 43, 54] the target: 1\n",
      "when input is [49, 43, 43, 54, 1] the target: 47\n",
      "when input is [49, 43, 43, 54, 1, 47] the target: 58\n",
      "when input is [49, 43, 43, 54, 1, 47, 58] the target: 1\n",
      "when input is [49, 43, 43, 54, 1, 47, 58, 1] the target: 58\n",
      "when input is [13] the target: 52\n",
      "when input is [13, 52] the target: 45\n",
      "when input is [13, 52, 45] the target: 43\n",
      "when input is [13, 52, 45, 43] the target: 50\n",
      "when input is [13, 52, 45, 43, 50] the target: 53\n",
      "when input is [13, 52, 45, 43, 50, 53] the target: 8\n",
      "when input is [13, 52, 45, 43, 50, 53, 8] the target: 0\n",
      "when input is [13, 52, 45, 43, 50, 53, 8, 0] the target: 26\n",
      "when input is [1] the target: 39\n",
      "when input is [1, 39] the target: 1\n",
      "when input is [1, 39, 1] the target: 46\n",
      "when input is [1, 39, 1, 46] the target: 53\n",
      "when input is [1, 39, 1, 46, 53] the target: 59\n",
      "when input is [1, 39, 1, 46, 53, 59] the target: 57\n",
      "when input is [1, 39, 1, 46, 53, 59, 57] the target: 43\n",
      "when input is [1, 39, 1, 46, 53, 59, 57, 43] the target: 0\n"
     ]
    }
   ],
   "source": [
    "torch.manual_seed(1337)\n",
    "batch_size = 4 # how many independent sequences will we process in parallel?\n",
    "context_size = 8 # what is the maximum context length for predictions?\n",
    "\n",
    "def get_batch(split):\n",
    "    # generate a small batch of data of inputs x and targets y\n",
    "    data = train_data if split == 'train' else val_data\n",
    "    ix = torch.randint(len(data) - context_size, (batch_size,))\n",
    "    x = torch.stack([data[i:i+context_size] for i in ix])\n",
    "    y = torch.stack([data[i+1:i+context_size+1] for i in ix])\n",
    "    return x, y\n",
    "\n",
    "xb, yb = get_batch('train')\n",
    "print('inputs:')\n",
    "print(xb.shape)\n",
    "print(xb)\n",
    "print('targets:')\n",
    "print(yb.shape)\n",
    "print(yb)\n",
    "\n",
    "print('----')\n",
    "\n",
    "for b in range(batch_size): # batch dimension\n",
    "    for t in range(context_size): # time dimension\n",
    "        context = xb[b, :t+1]\n",
    "        target = yb[b,t]\n",
    "        print(f\"when input is {context.tolist()} the target: {target}\")"
   ]
  },
  {
   "cell_type": "markdown",
   "id": "a23426a7-fb15-46c6-b32b-6a7f72a5c77e",
   "metadata": {},
   "source": [
    "# Bigram model"
   ]
  },
  {
   "cell_type": "code",
   "execution_count": 7,
   "id": "26abcb56-6fe2-4777-8ff1-ffb3eed59256",
   "metadata": {},
   "outputs": [
    {
     "name": "stdout",
     "output_type": "stream",
     "text": [
      "torch.Size([32, 65])\n",
      "tensor(4.8948, grad_fn=<NllLossBackward0>)\n"
     ]
    }
   ],
   "source": [
    "import torch\n",
    "import torch.nn as nn\n",
    "from torch.nn import functional as F\n",
    "torch.manual_seed(1337)\n",
    "\n",
    "class BigramLanguageModel(nn.Module):\n",
    "\n",
    "    def __init__(self, vocab_size):\n",
    "        super().__init__()\n",
    "        # each token directly reads off the logits for the next token from a lookup table\n",
    "        self.token_embedding_table = nn.Embedding(vocab_size, vocab_size)\n",
    "\n",
    "    def forward(self, idx, targets=None):\n",
    "\n",
    "        # idx and targets are both (B,T) tensor of integers. get the embeddings. \n",
    "        # each index in input tensor takes out token_embeeding_table row\n",
    "        logits = self.token_embedding_table(idx) # (B,T,C)\n",
    "        B,T,C = logits.shape\n",
    "        logits = logits.view(B*T, C)\n",
    "        targets=targets.view(B*T)\n",
    "        loss = F.cross_entropy(logits, targets)\n",
    "        \n",
    "        return logits, loss\n",
    "    \n",
    "model = BigramLanguageModel(vocab_size)\n",
    "logits, loss = model(xb, yb)\n",
    "print(logits.shape)\n",
    "print(loss) # expecting ~ -ln(1/65)"
   ]
  },
  {
   "cell_type": "markdown",
   "id": "0d65aec2-d085-41df-863a-52b5921086b6",
   "metadata": {},
   "source": [
    "Add a generative step. "
   ]
  },
  {
   "cell_type": "code",
   "execution_count": 8,
   "id": "bc00dfa2-8460-4bec-a203-a7593d3a7897",
   "metadata": {},
   "outputs": [
    {
     "name": "stdout",
     "output_type": "stream",
     "text": [
      "torch.Size([32, 65])\n",
      "tensor(4.7525, grad_fn=<NllLossBackward0>)\n",
      "['\\n', 'h', 'b', 'H', '\\n', '\\n', ':', 'C', 'L', 'P', '.', 'A', '!', 'f', 'q', \"'\", '3', 'g', 'g', 't', '!', 'O', '!', 'T', '?', 'X', '!', '!', 'S', 'A', '?', 'W', '&', 'T', 'r', 'p', 'v', 'Y', 'y', 'b', 'S', 'E', '3', 'w', '&', 'S', ' ', 'B', 'X', 'U', 'h', 'm', 'i', 'K', 'Y', 'y', 'T', 'm', 'W', 'M', 'P', 'h', 'h', 'm', 'n', 'H', 'K', 'j', '!', '!', 'b', 't', 'g', 'n', 'w', 'N', 'N', 'U', 'L', 'u', 'E', 'z', 'R', 'u', 'Y', 'y', 'i', 'W', 'E', 'Q', 'x', 'P', 'X', '!', '$', '3', 'C', \"'\", 'M', 'B', 'j']\n"
     ]
    }
   ],
   "source": [
    "class BigramLanguageModel(nn.Module):\n",
    "\n",
    "    def __init__(self, vocab_size):\n",
    "        super().__init__()\n",
    "        # each token directly reads off the logits for the next token from a lookup table\n",
    "        self.token_embedding_table = nn.Embedding(vocab_size, vocab_size)\n",
    "\n",
    "    def forward(self, idx, targets=None):\n",
    "            \n",
    "        # idx and targets are both (B,T) tensor of integers\n",
    "        logits = self.token_embedding_table(idx) # (B,T,C)\n",
    "        \n",
    "        if targets is None: # targets optional for inference \n",
    "            loss = None\n",
    "        else:\n",
    "            B, T, C = logits.shape\n",
    "            logits = logits.view(B*T, C)\n",
    "            targets = targets.view(B*T)\n",
    "            loss = F.cross_entropy(logits, targets)\n",
    "\n",
    "        return logits, loss\n",
    "    \n",
    "    def generate(self, idx, max_new_tokens):\n",
    "        # idx is (B, T) array of indices in the current context\n",
    "        for _ in range(max_new_tokens):\n",
    "            # get the predictions\n",
    "            logits, loss = self(idx)\n",
    "            \n",
    "            # get most recent token \n",
    "            logits = logits[:, -1, :] # becomes (B, C)\n",
    "            \n",
    "            # softmax over vocabulary \n",
    "            probs = F.softmax(logits, dim=-1) # (B, C)\n",
    "            \n",
    "            # sample from the distribution to get next input \n",
    "            idx_next = torch.multinomial(probs, num_samples=1) # (B, 1)\n",
    "            \n",
    "            # append sampled index to the running sequence\n",
    "            idx = torch.cat((idx, idx_next), dim=1) # (B, T+1)\n",
    "        return idx\n",
    "\n",
    "m = BigramLanguageModel(vocab_size)\n",
    "logits, loss = m(xb, yb)\n",
    "print(logits.shape)\n",
    "print(loss)\n",
    "\n",
    "print(decode(m.generate(idx = torch.zeros((1, 1), dtype=torch.long), max_new_tokens=100)[0].tolist()))"
   ]
  },
  {
   "cell_type": "code",
   "execution_count": 9,
   "id": "6a0ebf12-1c04-4b72-aa09-359654e8b9e9",
   "metadata": {},
   "outputs": [],
   "source": [
    "optimizer = torch.optim.AdamW(m.parameters(), lr=1e-3) # 3e-4 for big network. 1e-3 for small networks.  "
   ]
  },
  {
   "cell_type": "code",
   "execution_count": 10,
   "id": "2d6177d3-b93f-482f-888c-30edaf165445",
   "metadata": {},
   "outputs": [
    {
     "name": "stdout",
     "output_type": "stream",
     "text": [
      "3.5927720069885254\n"
     ]
    }
   ],
   "source": [
    "batch_size = 32\n",
    "for steps in range(1000):\n",
    "    xb, yb = get_batch('train')\n",
    "    logits, loss = m(xb, yb)\n",
    "    optimizer.zero_grad(set_to_none=True)\n",
    "    loss.backward()\n",
    "    optimizer.step()\n",
    "print(loss.item())\n",
    "                    "
   ]
  },
  {
   "cell_type": "code",
   "execution_count": 11,
   "id": "4a747ebe-2b54-4890-b4b2-0ba677a69f45",
   "metadata": {},
   "outputs": [
    {
     "name": "stdout",
     "output_type": "stream",
     "text": [
      "\n",
      "MQHMdmCgtwt!ZApKKTw!O DkG3LXZBCUknouca, oy.;JolY h&Uf?wi$NUTB$Rv-FYtABSEQpa-G XpbshbHhGJQw naoGft;RH\n",
      "veBZLulpFNvXUQonpft$JYWABUYtizXe:Cr,mfGBsut;J!..g'FKMp&H!SQSG..WiswtP n;;fG-Jup:mjCrl-wLI alntQ-R-l oy t!ri?mCIaf.NY tfJ;ppbmzXPaugeUY VDkCth\n",
      "y3MMqDBLXXZ. hNUwic,b;HoSwaxqDlaS:LzLXHTEH:dzBye tolXc$ sTZE3ggxwm:hnQ!.f?\n",
      "eU'zBaWivamINahw?:,b\n",
      "hIxqNzXPnvqf fAz,ETVr'PasU$SEtvNJ!!Twcy M$KMBymbUJOWon n.y;JFviC$q3woByHp t,QHkHkRauTmhiUCWf JI:nsETHeg\n",
      "QEDdkbYjk:iiIUMK3,Q$b\n",
      "oVBWhXchbnp,3S-GL.WUXPl.WCj!'z!B$Ei\n"
     ]
    }
   ],
   "source": [
    "print(\"\".join(decode(m.generate(idx = torch.zeros((1, 1), dtype=torch.long), max_new_tokens=500)[0].tolist())))"
   ]
  },
  {
   "cell_type": "code",
   "execution_count": null,
   "id": "d6f673e2-3721-4ca6-b910-a45f00144a50",
   "metadata": {},
   "outputs": [],
   "source": []
  },
  {
   "cell_type": "code",
   "execution_count": null,
   "id": "b3d9fbfc-6483-456f-a9f8-c98189790206",
   "metadata": {},
   "outputs": [],
   "source": []
  },
  {
   "cell_type": "code",
   "execution_count": null,
   "id": "237e1af9-fe54-45ab-9146-b829556f9b52",
   "metadata": {},
   "outputs": [],
   "source": []
  },
  {
   "cell_type": "code",
   "execution_count": null,
   "id": "522f24a5-6e18-4951-883a-18a8a14942c3",
   "metadata": {},
   "outputs": [],
   "source": []
  },
  {
   "cell_type": "code",
   "execution_count": null,
   "id": "1afacfa6-49f9-4a70-bf4b-8a992f92992f",
   "metadata": {},
   "outputs": [],
   "source": []
  },
  {
   "cell_type": "code",
   "execution_count": null,
   "id": "a1b92812-e16c-42e4-9920-8c638697fdbc",
   "metadata": {},
   "outputs": [],
   "source": []
  },
  {
   "cell_type": "markdown",
   "id": "25ff6e8e-da59-4e18-a0b9-76c53de24fb9",
   "metadata": {},
   "source": [
    "\n",
    "### Trick for self attention\n",
    "\n"
   ]
  },
  {
   "cell_type": "code",
   "execution_count": 12,
   "id": "5a1f308c-d1e2-4139-b644-8802d0b40e75",
   "metadata": {},
   "outputs": [
    {
     "data": {
      "text/plain": [
       "torch.Size([4, 8, 2])"
      ]
     },
     "execution_count": 12,
     "metadata": {},
     "output_type": "execute_result"
    }
   ],
   "source": [
    "torch.manual_seed(1337)\n",
    "B,T,C = 4,8,2\n",
    "x = torch.randn(B,T,C)\n",
    "x.shape"
   ]
  },
  {
   "cell_type": "markdown",
   "id": "f2ab2052-059a-4560-814b-3f4010de0679",
   "metadata": {},
   "source": [
    "x[b,t] = mean_{z<=t} x[b,i]... take mean feature vector of history"
   ]
  },
  {
   "cell_type": "code",
   "execution_count": 13,
   "id": "09acd2b1-ba19-454f-904d-a1f4ed4f8863",
   "metadata": {},
   "outputs": [],
   "source": [
    "xbow = torch.zeros((B,T,C))\n",
    "for b in range(B):\n",
    "    for t in range(T):\n",
    "        xprev = x[b, :t+1]\n",
    "        xbow[b,t] = torch.mean(xprev, 0)"
   ]
  },
  {
   "cell_type": "code",
   "execution_count": 14,
   "id": "bb278544-6d01-4aa1-b9d4-113bfa88bb32",
   "metadata": {},
   "outputs": [
    {
     "data": {
      "text/plain": [
       "tensor([[ 0.1808, -0.0700],\n",
       "        [-0.3596, -0.9152],\n",
       "        [ 0.6258,  0.0255],\n",
       "        [ 0.9545,  0.0643],\n",
       "        [ 0.3612,  1.1679],\n",
       "        [-1.3499, -0.5102],\n",
       "        [ 0.2360, -0.2398],\n",
       "        [-0.9211,  1.5433]])"
      ]
     },
     "execution_count": 14,
     "metadata": {},
     "output_type": "execute_result"
    }
   ],
   "source": [
    "x[0]"
   ]
  },
  {
   "cell_type": "code",
   "execution_count": 15,
   "id": "629c0b49-1123-4417-a99f-fdb13d4b9c56",
   "metadata": {},
   "outputs": [
    {
     "data": {
      "text/plain": [
       "tensor([[ 0.1808, -0.0700],\n",
       "        [-0.0894, -0.4926],\n",
       "        [ 0.1490, -0.3199],\n",
       "        [ 0.3504, -0.2238],\n",
       "        [ 0.3525,  0.0545],\n",
       "        [ 0.0688, -0.0396],\n",
       "        [ 0.0927, -0.0682],\n",
       "        [-0.0341,  0.1332]])"
      ]
     },
     "execution_count": 15,
     "metadata": {},
     "output_type": "execute_result"
    }
   ],
   "source": [
    "xbow[0]"
   ]
  },
  {
   "cell_type": "markdown",
   "id": "e90a0b0e-2b1f-44c1-9816-8255bd457fba",
   "metadata": {},
   "source": [
    "first is first. second is average of first and second. third is average of frist, second and third"
   ]
  },
  {
   "cell_type": "markdown",
   "id": "4cda5b79-6b90-48e2-9d0c-72eeedb1212f",
   "metadata": {},
   "source": [
    "can achieve this loop efficiently with a lower triangular matrix that is normalised along the rows"
   ]
  },
  {
   "cell_type": "code",
   "execution_count": 16,
   "id": "94755ad7-d81c-4713-8c33-b4e038823723",
   "metadata": {},
   "outputs": [
    {
     "data": {
      "text/plain": [
       "tensor([[1.0000, 0.0000, 0.0000],\n",
       "        [0.5000, 0.5000, 0.0000],\n",
       "        [0.3333, 0.3333, 0.3333]])"
      ]
     },
     "execution_count": 16,
     "metadata": {},
     "output_type": "execute_result"
    }
   ],
   "source": [
    "a = torch.tril(torch.ones(3,3)) \n",
    "a = a/ torch.sum(a, 1, keepdim=True)\n",
    "a"
   ]
  },
  {
   "cell_type": "code",
   "execution_count": 17,
   "id": "3335a7de-f40e-40bb-986d-557ded06f608",
   "metadata": {},
   "outputs": [
    {
     "data": {
      "text/plain": [
       "tensor([[[ 0.1808, -0.0700],\n",
       "         [-0.0894, -0.4926],\n",
       "         [ 0.1490, -0.3199],\n",
       "         [ 0.3504, -0.2238],\n",
       "         [ 0.3525,  0.0545],\n",
       "         [ 0.0688, -0.0396],\n",
       "         [ 0.0927, -0.0682],\n",
       "         [-0.0341,  0.1332]],\n",
       "\n",
       "        [[ 1.3488, -0.1396],\n",
       "         [ 0.8173,  0.4127],\n",
       "         [-0.1342,  0.4395],\n",
       "         [ 0.2711,  0.4774],\n",
       "         [ 0.2421,  0.0694],\n",
       "         [ 0.0084,  0.0020],\n",
       "         [ 0.0712, -0.1128],\n",
       "         [ 0.2527,  0.2149]],\n",
       "\n",
       "        [[-0.6631, -0.2513],\n",
       "         [ 0.1735, -0.0649],\n",
       "         [ 0.1685,  0.3348],\n",
       "         [-0.1621,  0.1765],\n",
       "         [-0.2312, -0.0436],\n",
       "         [-0.1015, -0.2855],\n",
       "         [-0.2593, -0.1630],\n",
       "         [-0.3015, -0.2293]],\n",
       "\n",
       "        [[ 1.6455, -0.8030],\n",
       "         [ 1.4985, -0.5395],\n",
       "         [ 0.4954,  0.3420],\n",
       "         [ 1.0623, -0.1802],\n",
       "         [ 1.1401, -0.4462],\n",
       "         [ 1.0870, -0.4071],\n",
       "         [ 1.0430, -0.1299],\n",
       "         [ 1.1138, -0.1641]]])"
      ]
     },
     "execution_count": 17,
     "metadata": {},
     "output_type": "execute_result"
    }
   ],
   "source": [
    "# for above \n",
    "a = torch.tril(torch.ones(T,T)) \n",
    "a = a/ torch.sum(a, 1, keepdim=True)\n",
    "xbow2 = a @ x # (B,T,T) @ (B,T,C) ---> (B,T,C)\n",
    "xbow2"
   ]
  },
  {
   "cell_type": "code",
   "execution_count": 18,
   "id": "2cb99798-5d47-41cb-baca-e78603cdd8cc",
   "metadata": {},
   "outputs": [
    {
     "data": {
      "text/plain": [
       "True"
      ]
     },
     "execution_count": 18,
     "metadata": {},
     "output_type": "execute_result"
    }
   ],
   "source": [
    "torch.allclose(xbow, xbow2)"
   ]
  },
  {
   "cell_type": "markdown",
   "id": "c288ded8-939f-45c9-b07e-196b7367388a",
   "metadata": {},
   "source": [
    "The idea is to switch to a weighted sum where weighting is attention. So this weghting will be learnt. "
   ]
  },
  {
   "cell_type": "code",
   "execution_count": null,
   "id": "107b7da6-6313-4fe4-84e0-f8d13b69f378",
   "metadata": {},
   "outputs": [],
   "source": []
  },
  {
   "cell_type": "code",
   "execution_count": null,
   "id": "b5c2a53d-514c-4346-9f43-a6f5b43c856f",
   "metadata": {},
   "outputs": [],
   "source": []
  },
  {
   "cell_type": "markdown",
   "id": "2ffb899e-537c-422a-aa75-4bc527e11246",
   "metadata": {},
   "source": [
    "## Transformer model "
   ]
  },
  {
   "cell_type": "code",
   "execution_count": null,
   "id": "4a7d3f4a-ef2d-4ccb-872b-c24d214a1e41",
   "metadata": {},
   "outputs": [],
   "source": [
    "import torch\n",
    "import torch.nn as nn\n",
    "from torch.nn import functional as F\n",
    "\n",
    "class FeedFoward(nn.Module):\n",
    "    \"\"\"a simple linear layer followed by a non-linearity\"\"\"\n",
    "\n",
    "    def __init__(self, n_embd):\n",
    "        super().__init__()\n",
    "        self.net = nn.Sequential(\n",
    "            nn.Linear(n_embd, 4 * n_embd),\n",
    "            nn.ReLU(),\n",
    "            nn.Linear(4 * n_embd, n_embd),\n",
    "            nn.Dropout(dropout),\n",
    "        )\n",
    "\n",
    "    def forward(self, x):\n",
    "        return self.net(x)\n",
    "    \n",
    "class Head(nn.Module):\n",
    "    \"\"\"one head of self-attention\"\"\"\n",
    "\n",
    "    def __init__(self, head_size):\n",
    "        super().__init__()\n",
    "        self.key = nn.Linear(n_embd, head_size, bias=False)\n",
    "        self.query = nn.Linear(n_embd, head_size, bias=False)\n",
    "        self.value = nn.Linear(n_embd, head_size, bias=False)\n",
    "        self.register_buffer(\"tril\", torch.tril(torch.ones(context_size, context_size)))\n",
    "        self.dropout = nn.Dropout(dropout)\n",
    "\n",
    "    def forward(self, x):\n",
    "        # input of size (batch, time-step, channels)\n",
    "        # output of size (batch, time-step, head size)\n",
    "        B, T, C = x.shape\n",
    "        k = self.key(x)  # (B,T,hs)\n",
    "        q = self.query(x)  # (B,T,hs)\n",
    "        # compute attention scores (\"affinities\")\n",
    "        wei = (\n",
    "            q @ k.transpose(-2, -1) * k.shape[-1] ** -0.5\n",
    "        )  # (B, T, hs) @ (B, hs, T) -> (B, T, T)\n",
    "        wei = wei.masked_fill(self.tril[:T, :T] == 0, float(\"-inf\"))  # (B, T, T)\n",
    "        wei = F.softmax(wei, dim=-1)  # (B, T, T)\n",
    "        wei = self.dropout(wei)\n",
    "        # perform the weighted aggregation of the values\n",
    "        v = self.value(x)  # (B,T,hs)\n",
    "        out = wei @ v  # (B, T, T) @ (B, T, hs) -> (B, T, hs)\n",
    "        return out\n",
    "    \n",
    "class MultiHeadAttention(nn.Module):\n",
    "    \"\"\"multiple heads of self-attention in parallel\"\"\"\n",
    "\n",
    "    def __init__(self, num_heads, head_size):\n",
    "        super().__init__()\n",
    "        self.heads = nn.ModuleList([Head(head_size) for _ in range(num_heads)]) # list of submodules, accesed ilke normal list  \n",
    "        self.proj = nn.Linear(head_size * num_heads, n_embd)\n",
    "        self.dropout = nn.Dropout(dropout)\n",
    "\n",
    "    def forward(self, x):\n",
    "        out = torch.cat([h(x) for h in self.heads], dim=-1)\n",
    "        out = self.dropout(self.proj(out))\n",
    "        return out\n",
    "    \n",
    "class Transformer(nn.Module):\n",
    "    \"\"\"Transformer block: communication followed by computation\"\"\"\n",
    "\n",
    "    def __init__(self, n_embd, n_head):\n",
    "        # n_embd: embedding dimension, n_head: the number of heads we'd like\n",
    "        super().__init__()\n",
    "        head_size = n_embd // n_head\n",
    "        self.sa = MultiHeadAttention(n_head, head_size)\n",
    "        self.ffwd = FeedFoward(n_embd)\n",
    "        self.ln1 = nn.LayerNorm(n_embd)\n",
    "        self.ln2 = nn.LayerNorm(n_embd)\n",
    "\n",
    "    def forward(self, x):\n",
    "        x = x + self.sa(self.ln1(x))\n",
    "        x = x + self.ffwd(self.ln2(x))\n",
    "        return x\n",
    "    \n",
    "class GPT(nn.Module):\n",
    "    def __init__(self):\n",
    "        super().__init__()\n",
    "        # each token directly reads off the logits for the next token from a lookup table\n",
    "        self.token_embedding_table = nn.Embedding(vocab_size, n_embd)\n",
    "        self.position_embedding_table = nn.Embedding(context_size, n_embd)\n",
    "        self.blocks = nn.Sequential(\n",
    "            *[Transformer(n_embd, n_head=n_head) for _ in range(n_layer)]\n",
    "        )\n",
    "        self.ln_f = nn.LayerNorm(n_embd)  # final layer norm\n",
    "        self.lm_head = nn.Linear(n_embd, vocab_size)\n",
    "\n",
    "        # better init\n",
    "        self.apply(self._init_weights)\n",
    "        \n",
    "        \n",
    "    def _init_weights(self, module):\n",
    "        if isinstance(module, nn.Linear):\n",
    "            torch.nn.init.normal_(module.weight, mean=0.0, std=0.02)\n",
    "            if module.bias is not None:\n",
    "                torch.nn.init.zeros_(module.bias)\n",
    "        elif isinstance(module, nn.Embedding):\n",
    "            torch.nn.init.normal_(module.weight, mean=0.0, std=0.02)\n",
    "\n",
    "    def forward(self, idx, targets=None):\n",
    "        B, T = idx.shape\n",
    "\n",
    "        # idx and targets are both (B,T) tensor of integers\n",
    "        tok_emb = self.token_embedding_table(idx)  # (B,T,C)\n",
    "        pos_emb = self.position_embedding_table(torch.arange(T, device=device))  # (T,C)\n",
    "        x = tok_emb + pos_emb  # (B,T,C)\n",
    "        x = self.blocks(x)  # (B,T,C)\n",
    "        x = self.ln_f(x)  # (B,T,C)\n",
    "        logits = self.lm_head(x)  # (B,T,vocab_size)\n",
    "\n",
    "        if targets is None:\n",
    "            loss = None\n",
    "        else:\n",
    "            B, T, C = logits.shape\n",
    "            logits = logits.view(B * T, C)\n",
    "            targets = targets.view(B * T)\n",
    "            loss = F.cross_entropy(logits, targets)\n",
    "\n",
    "        return logits, loss\n",
    "\n",
    "    def generate(self, idx, max_new_tokens):\n",
    "        # idx is (B, T) array of indices in the current context\n",
    "        for _ in range(max_new_tokens):\n",
    "            # crop idx to the last context_size tokens\n",
    "            idx_cond = idx[:, -context_size:]\n",
    "            # get the predictions\n",
    "            logits, loss = self(idx_cond)\n",
    "            # focus only on the last time step\n",
    "            logits = logits[:, -1, :]  # becomes (B, C)\n",
    "            # apply softmax to get probabilities\n",
    "            probs = F.softmax(logits, dim=-1)  # (B, C)\n",
    "            # sample from the distribution\n",
    "            idx_next = torch.multinomial(probs, num_samples=1)  # (B, 1)\n",
    "            # append sampled index to the running sequence\n",
    "            idx = torch.cat((idx, idx_next), dim=1)  # (B, T+1)\n",
    "        return idx"
   ]
  },
  {
   "cell_type": "code",
   "execution_count": 20,
   "id": "43333a5b-528e-4b31-9ee6-31308b0c94eb",
   "metadata": {},
   "outputs": [],
   "source": [
    "@torch.no_grad() # no gradient recording \n",
    "def estimate_loss():\n",
    "    out = {}\n",
    "    model.eval()\n",
    "    for split in [\"train\", \"val\"]:\n",
    "        losses = torch.zeros(eval_iters)\n",
    "        for k in range(eval_iters):\n",
    "            X, Y = get_batch(split)\n",
    "            X = X.to(device)\n",
    "            Y = Y.to(device)\n",
    "            logits, loss = model(X, Y)\n",
    "            losses[k] = loss.item()\n",
    "        out[split] = losses.mean()\n",
    "    model.train()\n",
    "    return out"
   ]
  },
  {
   "cell_type": "markdown",
   "id": "eb7400aa-4595-4a36-b626-b87731b793b8",
   "metadata": {},
   "source": [
    "Note:\n",
    "- @torch.no_grad() # no grad recording, less memory\n",
    "- model.eval(), model.train() # switching \n",
    "- different weight initalisations \n",
    "- self.apply() # init weights \n",
    "- nn.Sequential(*[Transofrmer() for in ...]) # unpacking argumetns into sequential\n",
    "- self.register_buffer # non-trainable params in model\n",
    "- nn.ModuleList # special list for modules "
   ]
  },
  {
   "cell_type": "code",
   "execution_count": 21,
   "id": "2be1b65a-dae9-46d2-ba3b-a2854d6df776",
   "metadata": {},
   "outputs": [
    {
     "name": "stdout",
     "output_type": "stream",
     "text": [
      "10.788929 M parameters\n"
     ]
    }
   ],
   "source": [
    "n_embd = 384 # size of embedding in attnetion\n",
    "n_layer = 6 # \n",
    "n_head = 6 # num heads in multi head attention\n",
    "batch_size = 256 \n",
    "context_size = 256 # max input \n",
    "learning_rate = 3e-4\n",
    "eval_iters= 200\n",
    "eval_interval = 500\n",
    "max_iters = 5000\n",
    "dropout = 0.2 # rate of dropout \n",
    "device = \"cuda\"\n",
    "\n",
    "\n",
    "model = GPT()\n",
    "model.to(device)\n",
    "print(sum(p.numel() for p in model.parameters()) / 1e6, \"M parameters\")"
   ]
  },
  {
   "cell_type": "code",
   "execution_count": 22,
   "id": "b2b53a6f-28d4-4b54-bde4-9fc498125afb",
   "metadata": {},
   "outputs": [
    {
     "name": "stdout",
     "output_type": "stream",
     "text": [
      "Model device: cuda:0\n"
     ]
    }
   ],
   "source": [
    "device = model.parameters().__next__().device\n",
    "print(\"Model device:\", device)"
   ]
  },
  {
   "cell_type": "code",
   "execution_count": 23,
   "id": "8b205176-bbfd-41dc-8881-3f743a6acbce",
   "metadata": {},
   "outputs": [
    {
     "name": "stdout",
     "output_type": "stream",
     "text": [
      "step 0: train loss 4.2209, val loss 4.2195\n",
      "step 500: train loss 1.5228, val loss 1.7124\n",
      "step 1000: train loss 1.2391, val loss 1.5180\n",
      "step 1500: train loss 1.0989, val loss 1.4956\n",
      "step 2000: train loss 0.9639, val loss 1.5082\n",
      "step 2500: train loss 0.8308, val loss 1.5729\n",
      "step 3000: train loss 0.7059, val loss 1.6486\n",
      "step 3500: train loss 0.5797, val loss 1.7509\n",
      "step 4000: train loss 0.4770, val loss 1.8594\n",
      "step 4500: train loss 0.3877, val loss 1.9613\n",
      "step 4999: train loss 0.3215, val loss 2.0376\n",
      "['\\n', 'A', 'p', 'o', 'l', 'l', 'o', ',', ' ', 'o', 'u', 'r', ' ', 's', 'o', 'n', ',', ' ', 't', 'a', 'k', 'e', 's', ';', ' ', 'a', 'n', 'd', ' ', 'y', 'o', 'u', 'r', ' ', 'b', 'r', 'o', 't', 'h', 'e', 'r', ' ', 'b', 'e', 'l', 'o', 'w', 's', '.', '\\n', 'I', \"'\", 'l', 'l', ' ', 'h', 'a', 'v', 'e', ' ', 'y', 'o', 'u', ' ', 'a', 'c', 'c', 'o', 's', 't', ' ', 'u', 'p', ' ', 'w', 'i', 't', 'h', ' ', 'b', 'o', 'o', 'k', ' ', 'f', 'o', 'r', 'r', \"'\", 't', '.', '\\n', '\\n', 'S', 'I', 'C', 'I', 'N', 'I', 'U', 'S', ':', '\\n', 'O', ',', ' ', 'a', 'l', 'l', ' ', 't', 'h', 'e', ' ', 'h', 'e', 'a', 'v', 'e', 'n', 'e', 's', 's', ' ', 'b', 'l', 'e', 'e', 'd', '\\n', 'Y', 'o', 'u', ' ', 'f', 'i', 'g', 'h', 't', ' ', 'i', 'n', ' ', 'm', 'i', 'n', 'e', ' ', 'a', 'c', 't', ',', ' ', 'i', 'f', ' ', 'y', 'o', 'u', ' ', 'd', 'o', ' ', 'b', 'u', 't', ' ', 'w', 'h', 'a', 't', '\\n', 'W', 'h', 'a', 't', ' ', 'y', 'e', 't', ' ', 'w', 'o', 'u', 'l', 'd', ' ', 'h', 'a', 'v', 'e', ' ', 'y', 'o', 'u', ' ', 'i', 'n', 'c', 'h', ' ', 'h', 'e', 'l', 'p', 'e', 'd', ' ', 'h', 'e', 'r', ' ', 'l', 'o', 'v', 'e', 's', '.', '\\n', '\\n', 'B', 'R', 'U', 'T', 'U', 'S', ':', '\\n', 'S', 'i', 'r', ',', ' ', 'i', 't', ' ', 'i', 's', ' ', 'a', ' ', 'l', 'a', 'm', 'y', '.', '\\n', '\\n', 'C', 'O', 'R', 'I', 'O', 'L', 'A', 'N', 'U', 'S', ':', '\\n', 'W', 'i', 'l', 'l', ' ', 't', 'h', 'e', ' ', 'c', 'o', 'm', 'e', ' ', 'l', 'a', 's', 'h', ' ', 'b', 'y', ' ', 'm', 'y', ' ', 'p', 'o', 'w', 'e', 'r', ';', ' ', 'y', 'o', 'u', ' ', 'k', 'n', 'o', 'w', ' ', 't', 'h', 'e', ' ', 'c', 'i', 't', 'y', '\\n', 'H', 'a', 'v', 'e', ' ', 'b', 'o', 'u', 'n', 'd', ' ', 't', 'o', ' ', 'e', 'a', 'c', 'h', ' ', 'p', 'a', 'r', 't', 'i', 'c', 'u', 'l', 'a', 'r', ' ', 'a', 'n', 'd', ' ', 't', 'a', 'k', 'e', ' ', 'h', 'i', 's', '\\n', 'W', 'i', 't', 'h', ' ', 's', 'p', 'a', 'c', 'i', 'n', 'g', ' ', 'a', 'n', 'd', ' ', 'm', 'a', 'j', 'e', 's', 't', 'y', ',', ' ', 'a', 'r', 'e', ' ', 'y', 'o', 'u', ' ', 'n', 'o', 't', '?', '\\n', '\\n', 'M', 'E', 'N', 'E', 'N', 'I', 'U', 'S', ':', '\\n', 'A', 'n', 'd', ' ', 'e', 'v', 'e', 'r', '\\n', 'P', 'r', 'a', 'r', 'i', 'n', 'g', ' ', 't', 'o', ' ', 'd', 'i', 'r', 'e', 'c', 't', ' ', 'p', 'r', 'e', 's', 's', ' ', 'w', 'h', 'a', 't', ' ', 'h', 'e', ' ', 's', 'i', 'n', 'g', 's', ' ', 'o', 'f', ' ', 't', 'h', 'e', ' ', 'p', 'e', 'o', 'p', 'l', 'e', ',', '\\n', 'C', 'o', 'u', 'l', 'd', ' ', 'n', 'o', 't', ' ', 'e', 'm', 'p', 't', ' ', 'o', 'f', ' ', 'h', 'i', 's', ' ', 'c', 'o', 'u', 'n', 't', 'r', 'y', \"'\", 's', ' ', 'h', 'e', 'a', 'd']\n"
     ]
    }
   ],
   "source": [
    "optimizer = torch.optim.AdamW(model.parameters(), lr=learning_rate) # memory used by this? \n",
    "for iter in range(max_iters):\n",
    "    # every once in a while evaluate the loss on train and val sets\n",
    "    if iter % eval_interval == 0 or iter == max_iters - 1:\n",
    "        losses = estimate_loss()\n",
    "        print(\n",
    "            f\"step {iter}: train loss {losses['train']:.4f}, val loss {losses['val']:.4f}\"\n",
    "        )\n",
    "\n",
    "    # sample a batch of data\n",
    "    xb, yb = get_batch(\"train\")\n",
    "    xb = xb.to(device)\n",
    "    yb = yb.to(device)\n",
    "\n",
    "    # evaluate the loss\n",
    "    logits, loss = model(xb, yb)\n",
    "    optimizer.zero_grad(set_to_none=True)\n",
    "    loss.backward()\n",
    "    optimizer.step()"
   ]
  },
  {
   "cell_type": "code",
   "execution_count": 25,
   "id": "d85d6f9a-b3c1-4193-9382-4c3467ac63ee",
   "metadata": {},
   "outputs": [],
   "source": [
    "torch.save(model.state_dict(), f\"gpt.pth\")"
   ]
  },
  {
   "cell_type": "code",
   "execution_count": 27,
   "id": "4cf1e69f-c725-4834-bcd5-fbea7c821e16",
   "metadata": {},
   "outputs": [
    {
     "name": "stdout",
     "output_type": "stream",
     "text": [
      "\n",
      "Name uname throws, while I did othem\n",
      "A dream my wife to the morning.\n",
      "\n",
      "CAMILLO:\n",
      "I have help'd it so, I am comfort with light\n",
      "And talk'd of no lesss.\n",
      "\n",
      "LEONTES:\n",
      "Thou want'st woman, like men's a desight\n",
      "In this knace of imagine before my only;\n",
      "The other of other gawds each parent,\n",
      "And grift of the houndam, nice, the daught,\n",
      "When I, there lie hoope to forget through hurough\n",
      "And old now for the herd life before left our brother.\n",
      "This shall well usurp the holy seat,\n",
      "Even was thought, with a foul sorrow\n"
     ]
    }
   ],
   "source": [
    "context = torch.zeros((1, 1), dtype=torch.long, device=device)\n",
    "print(\"\".join(decode(model.generate(context, max_new_tokens=500)[0].tolist())))"
   ]
  },
  {
   "cell_type": "markdown",
   "id": "999b58f3-16e0-48d0-863e-bafd2320204d",
   "metadata": {},
   "source": [
    "# nn.Embedding layer \n",
    "\n",
    "```\n",
    "emb = nn.Embedding(vocab_size, n_embd)\n",
    "\n",
    "emb(t) # tensor is arbitary size of num of indexs to extract\n",
    "```\n",
    "\n",
    "nn.Embedding is a vocab_size x n_embd matrix. For every element of tensor argument when it's called, the index is extracted from the embedding matrix. \n",
    "\n",
    "A common pretraining for these embeddings is glove. But they can be trainable themselves. "
   ]
  },
  {
   "cell_type": "code",
   "execution_count": 47,
   "id": "5b644e95-3621-430e-adcd-a74a21480565",
   "metadata": {},
   "outputs": [
    {
     "name": "stdout",
     "output_type": "stream",
     "text": [
      "(2, 4) -> (2, 4, 3)\n"
     ]
    }
   ],
   "source": [
    "import matplotlib.pyplot as plt\n",
    "vocab_size = 10\n",
    "n_embd = 3\n",
    "\n",
    "embedding = nn.Embedding(10, 3)\n",
    "inp = torch.LongTensor([[1, 2, 4, 5], [4, 3, 2, 9]])\n",
    "embedded = embedding(inp).detach().numpy()\n",
    "print(f\"{inp.numpy().shape} -> {embedded.shape}\")"
   ]
  },
  {
   "cell_type": "code",
   "execution_count": 58,
   "id": "719eea3e-6037-43c8-a984-d592e9b138f3",
   "metadata": {},
   "outputs": [
    {
     "name": "stdout",
     "output_type": "stream",
     "text": [
      "embedding shape = (10, 3)\n"
     ]
    }
   ],
   "source": [
    "w = embedding.weight.detach().numpy()\n",
    "print(f\"embedding shape = {w.shape}\")"
   ]
  },
  {
   "cell_type": "code",
   "execution_count": 73,
   "id": "c5f2c4db-d336-417e-96c1-1eb3f033ad0a",
   "metadata": {},
   "outputs": [
    {
     "data": {
      "image/png": "[encoded data removed]",
      "text/plain": [
       "<Figure size 3000x1000 with 3 Axes>"
      ]
     },
     "metadata": {},
     "output_type": "display_data"
    }
   ],
   "source": [
    "fig, axs = plt.subplots(1,3,figsize=(30,10))\n",
    "axs[0].imshow(inp.detach().numpy().reshape(8,1))\n",
    "axs[0].set_title('input matrix. ij=index to retrive from embeddings')\n",
    "axs[1].imshow(w)\n",
    "axs[1].set_title('embedding lookup.  (vocab size x embedding dim)')\n",
    "axs[2].imshow(embedded.reshape(8,3))\n",
    "axs[2].set_title('after lookup. each index of input has grabbed a row from iamge 2 ')\n",
    "for ax in axs:\n",
    "    ax.axis('off')"
   ]
  },
  {
   "cell_type": "code",
   "execution_count": null,
   "id": "6aee997f-84fd-4097-8b71-f629924e8f29",
   "metadata": {},
   "outputs": [],
   "source": []
  }
 ],
 "metadata": {
  "kernelspec": {
   "display_name": "Python 3 (ipykernel)",
   "language": "python",
   "name": "python3"
  },
  "language_info": {
   "codemirror_mode": {
    "name": "ipython",
    "version": 3
   },
   "file_extension": ".py",
   "mimetype": "text/x-python",
   "name": "python",
   "nbconvert_exporter": "python",
   "pygments_lexer": "ipython3",
   "version": "3.10.6"
  }
 },
 "nbformat": 4,
 "nbformat_minor": 5
}

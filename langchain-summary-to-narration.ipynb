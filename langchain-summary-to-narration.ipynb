{
 "cells": [
  {
   "cell_type": "markdown",
   "id": "ddea8771-9f79-407c-b7c8-e5c55a8704b0",
   "metadata": {},
   "source": [
    "# Summary 2 Narration\n",
    "\n",
    "Lets see how well chatgpt + langchain can create a narration from summary text of a movie. "
   ]
  },
  {
   "cell_type": "code",
   "execution_count": 3,
   "id": "6d3470ca-26c4-4fc4-a472-621d943906ec",
   "metadata": {},
   "outputs": [],
   "source": [
    "import os\n",
    "import openai\n",
    "import tiktoken\n",
    "from dotenv import load_dotenv, find_dotenv\n",
    "_ = load_dotenv(find_dotenv()) # read local .env file\n",
    "\n",
    "openai.api_key  = os.environ['OPENAI_API_KEY']"
   ]
  },
  {
   "cell_type": "code",
   "execution_count": 4,
   "id": "6ac27b80-d3c4-4b9e-b540-c2fc6bc46621",
   "metadata": {},
   "outputs": [],
   "source": [
    "from langchain import OpenAI, PromptTemplate, LLMChain\n",
    "from langchain.text_splitter import CharacterTextSplitter\n",
    "from langchain.chains.mapreduce import MapReduceChain\n",
    "from langchain.prompts import PromptTemplate\n",
    "\n",
    "llm = OpenAI(temperature=0)\n",
    "\n",
    "text_splitter = CharacterTextSplitter()"
   ]
  },
  {
   "cell_type": "code",
   "execution_count": 5,
   "id": "8faaf917-d04f-46ea-95ec-13f529448a02",
   "metadata": {},
   "outputs": [],
   "source": [
    "with open(\"sw3_plot_wikipedia.txt\") as f:\n",
    "    sw = f.read()"
   ]
  },
  {
   "cell_type": "markdown",
   "id": "c2dbb7f3-48bd-43d4-810a-e84e594259b6",
   "metadata": {},
   "source": []
  },
  {
   "cell_type": "code",
   "execution_count": 9,
   "id": "0bbf0002-bfd8-41eb-9042-6b1c8b787d41",
   "metadata": {},
   "outputs": [
    {
     "data": {
      "text/plain": [
       "[\"Orbiting above Coruscant, Obi-Wan Kenobi and Anakin Skywalker lead a mission to rescue Supreme Chancellor Palpatine from the cyborg Separatist commander General Grievous. After infiltrating Grievous' flagship, Obi-Wan and Anakin battle the Sith Lord Count Dooku, whom Anakin decapitates. Grievous escapes the damaged ship before Obi Wan and Anakin crash-land it on Coruscant. There, Anakin reunites with Padmé Amidala. Soon after, Anakin has visions of the now-pregnant Padmé dying in childbirth.\\n\\nPalpatine appoints Anakin to the Jedi Council as his personal representative. The Council agrees, but distrusting Palpatine, refuse to make Anakin a Jedi Master. They instead instruct him to spy on Palpatine, diminishing Anakin's faith in the Jedi. Meanwhile, on Utapau, Grievous relocates the Separatist leaders to the volcanic planet Mustafar. Obi-Wan travels to Utapau where he confronts and kills Grievous, while Yoda travels to the Wookiee planet of Kashyyyk to defend it from a Separatist invasion.\\n\\nPalpatine tempts Anakin with the dark side of the Force, promising it can save Padmé. Anakin deduces that Palpatine is the Sith Lord behind the war and reports his treachery to Mace Windu, who confronts and subdues Palpatine. Desperate to save Padmé, Anakin prevents Windu from killing Palpatine, who then sends Windu falling to his death. Anakin pledges himself to the Sith, and Palpatine knights him as Darth Vader. Palpatine issues Order 66, which commands the clone troopers to kill their commanding Jedi generals across the galaxy, while Vader and a battalion of clone troopers kill the remaining Jedi in the Jedi Temple. Vader travels to Mustafar to assassinate the Separatist leaders, while Palpatine declares himself Emperor before the Galactic Senate, transforming the Republic into the Galactic Empire. He denounces the Jedi as traitors.\\n\\nObi-Wan and Yoda return to Coruscant and learn that Anakin has turned to the dark side. Yoda instructs Obi-Wan to confront Vader while he faces Palpatine. Obi-Wan seeks out Padmé to discover Vader's whereabouts and reveals his treachery. Padmé travels to Mustafar - unaware Obi-Wan has stowed aboard her ship – and pleads with Vader to abandon the dark side. When Obi-Wan emerges, Vader believes Padmé has betrayed him. Enraged, he nearly strangles her to death using the Force. Obi-Wan attacks Vader and their lightsaber duel ends with Obi-Wan severing Vader's legs and left arm. Obi-Wan retrieves Vader's lightsaber before leaving him for dead near a lava flow.\\n\\nOn Coruscant, Yoda battles Palpatine, culminating in a stalemate. Yoda flees with Senator Bail Organa and regroups with Obi-Wan and Padmé on the planetoid Polis Massa. Padmé gives birth to twins, whom she names Luke and Leia. She dies soon after, still believing there is good in Vader. Palpatine recovers a barely-alive Vader. On Coruscant, Vader's badly burned and mutilated body is treated and encased in a black, armored life-support suit. When he asks about Padmé, Palpatine says Vader killed her out of rage, leaving Vader devastated.\\n\\nObi-Wan and Yoda conceal the twins' birth from the Sith and retreat into exile until the Empire can be challenged. As Padmé's funeral is underway on Naboo, Palpatine and Vader supervise the construction of the Death Star. Bail takes Leia to Alderaan to raise her as his daughter. Obi-Wan delivers Luke to his step-uncle and step-aunt, Owen and Beru Lars, on Tatooine. Obi-Wan settles nearby as a recluse while watching over young Luke.\"]"
      ]
     },
     "execution_count": 9,
     "metadata": {},
     "output_type": "execute_result"
    }
   ],
   "source": [
    "texts = text_splitter.split_text(sw)\n",
    "texts"
   ]
  },
  {
   "cell_type": "code",
   "execution_count": 10,
   "id": "448cef1b-0e7a-4cd6-996b-619549ae728b",
   "metadata": {},
   "outputs": [],
   "source": [
    "from langchain.docstore.document import Document\n",
    "\n",
    "docs = [Document(page_content=t) for t in texts]"
   ]
  },
  {
   "cell_type": "code",
   "execution_count": 12,
   "id": "55dc4b5b-38aa-46ac-ac04-5e51b6341725",
   "metadata": {},
   "outputs": [],
   "source": [
    "from langchain.chains.summarize import load_summarize_chain\n"
   ]
  },
  {
   "cell_type": "code",
   "execution_count": 13,
   "id": "c24d130e-5627-4bf2-b07b-23266ee902c9",
   "metadata": {},
   "outputs": [
    {
     "data": {
      "text/plain": [
       "' Obi-Wan and Anakin lead a mission to rescue Palpatine from Grievous. Anakin is appointed to the Jedi Council, but his faith in the Jedi is diminished. Obi-Wan kills Grievous, Yoda defends Kashyyyk, and Palpatine tempts Anakin with the dark side of the Force. Anakin pledges himself to the Sith and Palpatine issues Order 66, commanding the clone troopers to kill their Jedi generals. Yoda and Obi-Wan confront Palpatine and Vader, Padmé dies, and Obi-Wan and Yoda hide the twins. Vader is encased in a life-support suit and Palpatine and Vader oversee the construction of the Death Star.'"
      ]
     },
     "execution_count": 13,
     "metadata": {},
     "output_type": "execute_result"
    }
   ],
   "source": [
    "chain = load_summarize_chain(llm, chain_type=\"map_reduce\")\n",
    "chain.run(docs)"
   ]
  },
  {
   "cell_type": "code",
   "execution_count": 14,
   "id": "8cbf8366-de1a-4c47-9951-4f791f9159ec",
   "metadata": {},
   "outputs": [
    {
     "data": {
      "text/plain": [
       "\" Obi-Wan Kenobi and Anakin Skywalker lead a mission to rescue Supreme Chancellor Palpatine from General Grievous. After defeating Count Dooku, Grievous escapes and Obi-Wan and Anakin crash-land on Coruscant. Anakin is appointed to the Jedi Council, but is instructed to spy on Palpatine. Obi-Wan kills Grievous on Utapau, while Yoda defends Kashyyyk from a Separatist invasion. Palpatine tempts Anakin with the dark side of the Force, and Anakin pledges himself to the Sith, becoming Darth Vader. Palpatine issues Order 66, and Vader and a battalion of clone troopers kill the remaining Jedi in the Jedi Temple. Obi-Wan and Yoda return to Coruscant and learn of Anakin's treachery. Obi-Wan confronts Vader on Mustafar, while Yoda battles Palpatine on Coruscant. Yoda flees with Senator Bail Organa, and Padmé gives birth to twins, Luke and Leia, before dying. Vader is recovered and encased in a life-support suit. Obi-Wan and Yoda conceal the twins' birth from the Sith and retreat into exile. Palpatine and Vader supervise the\""
      ]
     },
     "execution_count": 14,
     "metadata": {},
     "output_type": "execute_result"
    }
   ],
   "source": [
    "prompt_template = \"\"\"Write this in the style of a short narration summarising the key events\n",
    "\n",
    "\n",
    "{text}\n",
    "\n",
    "\n",
    "NARRATIVE SUMMARY:\"\"\"\n",
    "PROMPT = PromptTemplate(template=prompt_template, input_variables=[\"text\"])\n",
    "chain = load_summarize_chain(llm, chain_type=\"stuff\", prompt=PROMPT)\n",
    "chain.run(docs)"
   ]
  },
  {
   "cell_type": "code",
   "execution_count": 15,
   "id": "f70d8164-5d41-4ca7-bee1-02fde701d6b4",
   "metadata": {},
   "outputs": [
    {
     "data": {
      "text/plain": [
       "\"\\n\\nIn a daring mission to rescue Supreme Chancellor Palpatine, Obi-Wan Kenobi and Anakin Skywalker battle their way through the Separatist forces. Anakin is tempted by the dark side of the Force and pledges himself to the Sith, becoming Darth Vader. Palpatine issues Order 66, commanding the clone troopers to kill their Jedi generals, while Vader and a battalion of clone troopers massacre the remaining Jedi in the Jedi Temple. Obi-Wan and Yoda return to Coruscant and learn of Anakin's treachery. Obi-Wan confronts Vader in a lightsaber duel, leaving him for dead near a lava flow. Yoda battles Palpatine, but is forced to retreat. Padmé Amidala dies soon after giving birth to twins, Luke and Leia. Palpatine recovers a barely-alive Vader and encases him in a black, armored life-support suit. Obi-Wan and Yoda conceal the twins' birth from the Sith and retreat into exile, while Palpatine and Vader supervise the construction of the Death Star. Obi-Wan delivers Luke to his step-uncle and step-aunt on Tatooine, while Bail Organa takes Leia to Alderaan to raise her as his daughter. Obi-Wan settles\""
      ]
     },
     "execution_count": 15,
     "metadata": {},
     "output_type": "execute_result"
    }
   ],
   "source": [
    "prompt_template = \"\"\"Summarise in the style of a short (about 2 minute) narration of a youtube video\n",
    "\n",
    "\n",
    "{text}\n",
    "\n",
    "\n",
    "NARRATION:\"\"\"\n",
    "PROMPT = PromptTemplate(template=prompt_template, input_variables=[\"text\"])\n",
    "chain = load_summarize_chain(llm, chain_type=\"stuff\", prompt=PROMPT)\n",
    "chain.run(docs)"
   ]
  },
  {
   "cell_type": "code",
   "execution_count": 16,
   "id": "153e1a8a-cf01-4183-82c3-77a6061257f5",
   "metadata": {},
   "outputs": [
    {
     "data": {
      "text/plain": [
       "\"\\nIn this 5 minute YouTube video, we explore the events of Star Wars Episode III: Revenge of the Sith. Obi-Wan Kenobi and Anakin Skywalker lead a mission to rescue Supreme Chancellor Palpatine from the cyborg Separatist commander General Grievous. After infiltrating Grievous' flagship, Obi-Wan and Anakin battle the Sith Lord Count Dooku, whom Anakin decapitates. Palpatine appoints Anakin to the Jedi Council, but distrusting Palpatine, they refuse to make Anakin a Jedi Master. Meanwhile, Obi-Wan kills Grievous on Utapau and Yoda defends Kashyyyk from a Separatist invasion. Palpatine tempts Anakin with the dark side of the Force, promising it can save Padmé. Anakin prevents Mace Windu from killing Palpatine, who then sends Windu falling to his death. Anakin pledges himself to the Sith, and Palpatine knights him as Darth Vader. Palpatine issues Order 66, which commands the clone troopers to kill their commanding Jedi generals across the galaxy, while Vader and a battalion of clone troopers kill the remaining Jedi in the Jedi Temple. Yoda battles Palpatine, culminating in a stalemate. Pad\""
      ]
     },
     "execution_count": 16,
     "metadata": {},
     "output_type": "execute_result"
    }
   ],
   "source": [
    "prompt_template = \"\"\"summarise the following in the style of a 5 minute youtube video. \n",
    "Answer as host: \n",
    "\n",
    "\n",
    "{text}\n",
    "\n",
    "\"\"\"\n",
    "PROMPT = PromptTemplate(template=prompt_template, input_variables=[\"text\"])\n",
    "chain = load_summarize_chain(llm, chain_type=\"stuff\", prompt=PROMPT)\n",
    "chain.run(docs)"
   ]
  },
  {
   "cell_type": "code",
   "execution_count": null,
   "id": "bbfa9273-7d89-4351-bf59-8520d649818b",
   "metadata": {},
   "outputs": [],
   "source": []
  }
 ],
 "metadata": {
  "kernelspec": {
   "display_name": "Python 3 (ipykernel)",
   "language": "python",
   "name": "python3"
  },
  "language_info": {
   "codemirror_mode": {
    "name": "ipython",
    "version": 3
   },
   "file_extension": ".py",
   "mimetype": "text/x-python",
   "name": "python",
   "nbconvert_exporter": "python",
   "pygments_lexer": "ipython3",
   "version": "3.10.6"
  }
 },
 "nbformat": 4,
 "nbformat_minor": 5
}

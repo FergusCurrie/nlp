{
 "cells": [
  {
   "cell_type": "markdown",
   "id": "e2a1ab7a-b3b4-477b-8630-6e4135accbc1",
   "metadata": {},
   "source": [
    "# Following hf book lets see about generating a movie summary\n",
    "\n"
   ]
  },
  {
   "cell_type": "markdown",
   "id": "e5796d63-b605-4b88-80ce-746f7610a327",
   "metadata": {},
   "source": [
    "first need to get the data out. most of the scripts are stored as .tar.gz but don't want to extract all yet. \n",
    "\n",
    "In a script, \"EXT.\" is an abbreviation for \"exterior.\" It is a scene heading or slugline that indicates the location of the scene taking place outside, typically outdoors or in an exterior setting. Scene headings are used in screenplay formatting to describe the location and time of each scene.\n",
    "\n",
    "In a script, \"INT.\" is an abbreviation for \"interior.\" It is a scene heading or slugline that indicates the location of the scene taking place indoors or in an interior setting.\n",
    "\n",
    "A useful model may be combining sumarrys from multiple reviews.\n",
    "\n",
    "Character cues (e.g., MAN, CATHERINE) preface the lines the actors\n",
    "speak. Action/description lines describe what the camera sees (e.g., We can’t get a\n",
    "good glimpse of his face, but his body: : : )."
   ]
  },
  {
   "cell_type": "code",
   "execution_count": 9,
   "id": "f6baf41a-eb2c-4405-9ca9-cd8827e48de2",
   "metadata": {
    "tags": []
   },
   "outputs": [],
   "source": [
    "data_directory = '/home/fergus/data/scriptbase/scriptbase_j'\n",
    "\n",
    "script_filename = f'{data_directory}/sw3/processed/script_clean.txt'\n",
    "with open(script_filename) as file:\n",
    "    script = file.read()\n",
    "    \n",
    "#script\n"
   ]
  },
  {
   "cell_type": "markdown",
   "id": "930aea5f-97cf-4bbe-b881-997af10f71ff",
   "metadata": {},
   "source": [
    "# Preprocessing the text. \n",
    "\n",
    "For now the scripts have a consistent structure, which will mean making a consistent preprocessing method easy. \n",
    "I'm going to begin by removing all scene descriptions, and just deal with the dialogue of the text. This will be a key difficult of any future system, this will be limited to the information found in the dialogue. "
   ]
  },
  {
   "cell_type": "code",
   "execution_count": 41,
   "id": "f231f39e-db59-4886-87d6-845bdda67339",
   "metadata": {},
   "outputs": [
    {
     "name": "stdout",
     "output_type": "stream",
     "text": [
      "----ANAKIN\n",
      "--There isn't a droid made that can out fly you, Master, and no other way to get to the Chancellor . . .\n",
      "\n",
      "\n",
      "\n",
      "----OBI-WAN\n",
      "--Look out, four droids inbound . . .\n",
      "\n",
      "\n",
      "\n",
      "----OBI-WAN\n",
      "--We've got to split them up.\n",
      "\n",
      "\n",
      "\n",
      "[{'character': 'anakin', 'text': \"there isn't a droid made that can out fly you, master, and no other way to get to the chancellor  \"}, {'character': 'obiwan', 'text': 'look out, four droids inbound  '}, {'character': 'obiwan', 'text': \"we've got to split them up. \"}, {'character': 'anakin', 'text': 'break left, fly through the guns on that tower. '}, {'character': 'obiwan', 'text': 'easy for you to say  why am i always the bait? '}, {'character': 'anakin', 'text': \"don't worry. i'm coming around behind you. \"}, {'character': 'obiwan', 'text': \"anakin, they're all over me! \"}, {'character': 'anakin', 'text': 'dead ahead! closing  lock onto him, artoo  '}, {'character': 'anakin', 'text': '(continuing, laughs) we got him, artoo! '}, {'character': 'anakin', 'text': 'i copy, artoo. '}]\n"
     ]
    }
   ],
   "source": [
    "\n",
    "processed_script = []\n",
    "\n",
    "# First process to character and speech\n",
    "lines = []\n",
    "for line in script.split('\\n\\n'):\n",
    "    line = line.replace('     ','-')\n",
    "    if line[:2] == '--':\n",
    "        lines.append(line)\n",
    "\n",
    "# print the first few lines \n",
    "for i, line in enumerate(lines):\n",
    "    if i > 2:\n",
    "        break\n",
    "    print(line)\n",
    "    print('\\n\\n')\n",
    "    \n",
    "for t, line in enumerate(lines):\n",
    "    split = line.split('\\n')\n",
    "    character = split[0].replace('-','').lower()\n",
    "    speech = \"\"\n",
    "    for text in split[1:]:\n",
    "        text = text.replace('-','').replace('. . .', '').lower() + ' '\n",
    "        speech += text\n",
    "    d = {'character':character, 'text':speech}\n",
    "    processed_script.append(d)\n",
    "\n",
    "print(processed_script[:10])"
   ]
  },
  {
   "cell_type": "markdown",
   "id": "00fb64a9-de09-49b6-8c99-ff33ae0edddd",
   "metadata": {},
   "source": [
    "### There's some very basic preprocessing now. I wonderhow many tokens there are\n"
   ]
  },
  {
   "cell_type": "code",
   "execution_count": 58,
   "id": "531174a4-d4a0-4dd5-96f2-8d08ecbe4e98",
   "metadata": {
    "tags": []
   },
   "outputs": [
    {
     "name": "stderr",
     "output_type": "stream",
     "text": [
      "/home/fergus/.local/lib/python3.10/site-packages/transformers/models/t5/tokenization_t5_fast.py:155: FutureWarning: This tokenizer was incorrectly instantiated with a model max length of 512 which will be corrected in Transformers v5.\n",
      "For now, this behavior is kept to avoid breaking backwards compatibility when padding/encoding with `truncation is True`.\n",
      "- Be aware that you SHOULD NOT rely on t5-large automatically truncating your input to 512 when padding/encoding.\n",
      "- If you want to encode/pad to sequences longer than 512 you can either instantiate this tokenizer with `model_max_length` or pass `max_length` when encoding/padding.\n",
      "- To avoid this warning, please instantiate this tokenizer with `model_max_length` set to your preferred value.\n",
      "  warnings.warn(\n"
     ]
    }
   ],
   "source": [
    "from transformers import pipeline, set_seed\n",
    "pipe = pipeline(\"summarization\", model=\"t5-large\")\n",
    "\n"
   ]
  },
  {
   "cell_type": "code",
   "execution_count": 59,
   "id": "e927ba1a-c83c-4932-a68d-d3434b3befa9",
   "metadata": {},
   "outputs": [
    {
     "name": "stdout",
     "output_type": "stream",
     "text": [
      "number of characters = 68190\n",
      "number of words = 12524\n"
     ]
    }
   ],
   "source": [
    "processed_script_as_text = ''\n",
    "for p in processed_script:\n",
    "    processed_script_as_text += p['text']\n",
    "print(f'number of characters = {len(processed_script_as_text)}') # numer of characters\n",
    "print(f'number of words = {len(processed_script_as_text.split())}') # numer of characters"
   ]
  },
  {
   "cell_type": "markdown",
   "id": "01ce8fd7-ea29-4b66-9f7e-9663097dd0d1",
   "metadata": {},
   "source": [
    "#### Tokenize the script"
   ]
  },
  {
   "cell_type": "code",
   "execution_count": 65,
   "id": "d7b101f6-764a-4dc4-be0b-7b850caa7c12",
   "metadata": {
    "tags": []
   },
   "outputs": [
    {
     "data": {
      "text/plain": [
       "\"there isn't a droid made that can out fly you, master, and no other way to get to the chancellor look out, four droids inbound we've got to split them up. break left, fly through the guns on that tower. easy for you to say why am i always the bait? don't worry. i'm coming around behind you. anakin, they're all over me! dead ahead! closing lock onto him, artoo (continuing, laughs) we got him, artoo! i copy, artoo. i'm going down on the deck. good idea ... i need some room to maneuver. (continuing) cut right. do you hear me?! cut right. don't let him get a handle on you. come on, artoo, lock on! lock on! hurry up! i don't like this! (continuing) ouch! (continuing) don't even try to fix it, arfour. i've shut it down. we're locked on ... we've got him (continuing) yeah! we got him good going, artoo. next time you're the bait now let's find the command ship and get on with it ... lock onto them, artoo. master, general grievous's ship is directly ahead. (continuing) the one crawling with vulture droids. i see it. oh, this is going to be easy. come on, master. not this time. there's too much at stake. we need help. odd ball, do you copy? (os) copy, red leader. mark my position and form your squad up behind me we're on your tail, general kenobi. set sfoils in attack position. this is where the fun begins. ten vulture droids straight ahead, coming down the\""
      ]
     },
     "execution_count": 65,
     "metadata": {},
     "output_type": "execute_result"
    }
   ],
   "source": [
    "# from nltk.tokenize import sent_tokenize\n",
    "# tokenized_script = sent_tokenize(processed_script_as_text)\n",
    "# tokenized_script[:10]\n",
    "\n",
    "tokenized_script = ' '.join(processed_script_as_text.split()[:256])\n",
    "tokenized_script"
   ]
  },
  {
   "cell_type": "code",
   "execution_count": null,
   "id": "4189ae5c-fd05-42f9-916f-d59821be9260",
   "metadata": {},
   "outputs": [],
   "source": []
  },
  {
   "cell_type": "code",
   "execution_count": 66,
   "id": "9b4d980a-e614-4374-b3a7-5aebe0031c17",
   "metadata": {},
   "outputs": [],
   "source": [
    "pipe_out = pipe(tokenized_script)"
   ]
  },
  {
   "cell_type": "code",
   "execution_count": 67,
   "id": "75d70ace-3dab-440e-9df4-52416d75b5a2",
   "metadata": {},
   "outputs": [
    {
     "data": {
      "text/plain": [
       "\"general grievous's ship is directly ahead, crawling with vulture droids . sfoils in attack position, mark your position and form your squad up behind me . anakin, they're all over me! dead ahead! i copy, artoo, i'm going down on the deck .\""
      ]
     },
     "execution_count": 67,
     "metadata": {},
     "output_type": "execute_result"
    }
   ],
   "source": [
    "pipe_out[0][\"summary_text\"].replace(\" .<n>\",\".\\n\")"
   ]
  },
  {
   "cell_type": "code",
   "execution_count": null,
   "id": "2ab10365-565e-48d7-af0f-a36dd9f25686",
   "metadata": {},
   "outputs": [],
   "source": []
  },
  {
   "cell_type": "code",
   "execution_count": null,
   "id": "eb972014-d31c-482f-b324-461a7e58a2f5",
   "metadata": {},
   "outputs": [],
   "source": []
  },
  {
   "cell_type": "markdown",
   "id": "fccff26a-98a0-463a-9b1d-6d202b5fa1f8",
   "metadata": {},
   "source": [
    "# Testing scene extraction\n",
    "\n",
    "Scene extraction is possible based off the raw te4xt. It will have very different preprocessing because the previous chunk of worked looked only at dialogue. \n",
    "\n",
    "EXT. and INT. Mark change of scenes "
   ]
  },
  {
   "cell_type": "code",
   "execution_count": 62,
   "id": "6255ab29-bbc5-4b69-80fc-b4e96f34af92",
   "metadata": {},
   "outputs": [],
   "source": [
    "def scene_to_dialogue_and_setup(scene):\n",
    "    lines = []\n",
    "    setup = []\n",
    "    for line in scene.split('\\n\\n'):\n",
    "        line = line.replace('     ','-')\n",
    "        if line[:2] == '--':\n",
    "            lines.append(line)\n",
    "        else:\n",
    "            setup.append(line)\n",
    "    \n",
    "\n",
    "    processed_scene= []\n",
    "    for t, line in enumerate(lines):\n",
    "        split = line.split('\\n')\n",
    "        character = split[0].replace('-','').lower()\n",
    "        speech = \"\"\n",
    "        for text in split[1:]:\n",
    "            text = text.replace('-','').replace('. . .', '').lower() + ' '\n",
    "            speech += text\n",
    "        d = {'character':character, 'text':speech}\n",
    "        processed_scene.append(d)\n",
    "    return processed_scene, '\\n'.join(setup)\n",
    "\n",
    "def scene_to_setup(scene):\n",
    "    lines = []\n",
    "    for line in scene.split('\\n\\n'):\n",
    "        if '\\n' in line:\n",
    "            break\n",
    "        lines.append(line)\n",
    "    return ' '.join(lines)\n",
    "        "
   ]
  },
  {
   "cell_type": "markdown",
   "id": "500468b3-13cc-4e78-abda-660b1817cf45",
   "metadata": {},
   "source": [
    "scene 5 has some good examples of identifies (like EXT or INT) not being in the script, but some non-dialogue e.g. narration or scene-setting takes place. "
   ]
  },
  {
   "cell_type": "code",
   "execution_count": 63,
   "id": "170063a1-0c22-465c-abde-34f609343aec",
   "metadata": {},
   "outputs": [
    {
     "name": "stdout",
     "output_type": "stream",
     "text": [
      "*********************************************\n",
      "5\n",
      "scene= OBI-WAN'S STARFIGHTER COCKPIT-SPACE\n",
      "\n",
      "OBI-WAN struggles to maintain control of his ship.\n",
      "\n",
      "                    OBI-WAN\n",
      "          We've got to split them up.\n",
      "\n",
      "                    ANAKIN\n",
      "          Break left, fly through the guns on that tower.\n",
      "\n",
      "OBI-WAN flies to the left of a huge tower on a REPUBLIC CRUISER. The TWO DROID DROP FIGHTERS follow.\n",
      "\n",
      "                    OBI-WAN\n",
      "          Easy for you to say . . . why am I always the bait?\n",
      "\n",
      "                    ANAKIN\n",
      "          Don't worry. I'm coming around behind you.\n",
      "\n",
      "OBI-WAN deftly maneuvers around a large Starship's superstructure, but the TWO DROID FIGHTERS stay on his tail, BLASTING him with intense laser fire.\n",
      "\n",
      "                    OBI-WAN\n",
      "          Anakin, they're all over me!\n",
      "\n",
      "                    ANAKIN\n",
      "          Dead ahead! Closing . . . lock onto him, Artoo . . .\n",
      "\n",
      "ARTOO BEEPS his reply as ANAKIN swoops in for the kill. ANAKIN BLASTS one of the DROID DROP FIGHTERS. It EXPLODES.\n",
      "\n",
      "                    ANAKIN\n",
      "          (continuing, laughs) We got him, Artoo!\n",
      "\n",
      "ANAKIN BLASTS away at the second DROID DROP FIGHTER as ARTOO BEEPS an angry warning.\n",
      "\n",
      "                    ANAKIN\n",
      "          I copy, Artoo.\n",
      "\n",
      "                    OBI-WAN\n",
      "          I'm going down on the deck.\n",
      "\n",
      "                    ANAKIN\n",
      "          Good idea ... I need some room to maneuver.\n",
      "\n",
      "OBI-WAN dives toward the surface of one of the larger TRADE FEDERATION BATTLESHIPS and is forced to fly through a maelstrom of laser flack. He skims the surface, followed by the DROID DROP FIGHTER, which is followed by ANAKIN.\n",
      "\n",
      "                    ANAKIN\n",
      "          (continuing) Cut right. Do you hear me?! Cut right. Don't let him get a handle on you. Come on, Artoo, lock on! Lock on!\n",
      "\n",
      "ARTOO BEEPS. The crosshairs merge on the DROID DROP FIGHTER.\n",
      "\n",
      "                    OBI-WAN\n",
      "          Hurry up! I don't like this!\n",
      "\n",
      "OBI-WAN flies through a narrow gap between two towers on a Battleship. The DROID DROP FIGHTER hits one of Obi-Wan's wings with a laser blast, and parts of the ship go flying around Obi-Wan's Astro Droid, ARFOUR.\n",
      "\n",
      "                    OBI-WAN\n",
      "          (continuing) Ouch!\n",
      "\n",
      "R-4 BEEPS a blue streak.\n",
      "\n",
      "                    OBI-WAN\n",
      "          (continuing) Don't even try to fix it, Arfour. I've shut it down.\n",
      "\n",
      "                    ANAKIN\n",
      "          We're locked on ... we've got him . . .\n",
      "\n",
      "ANAKIN drops in behind the DROID DROP FIGHTER and blows him apart. ARTOO SQUEALS with delight.\n",
      "\n",
      "                    ANAKIN\n",
      "          (continuing) Yeah! We got him . . . good going, Artoo.\n",
      "\n",
      "                    OBI-WAN\n",
      "          Next time you're the bait . . . Now let's find the Command Ship and get on with it ...\n",
      "\n",
      "R-4 BEEPS a blue streak.\n",
      "\n",
      "                    ANAKIN\n",
      "          Lock onto them, Artoo. Master, General Grievous's ship is directly ahead.\n",
      "\n",
      "ARTOO BEEPS a reply, and it reads out in Anakin's cockpit.\n",
      "\n",
      "                    ANAKIN\n",
      "          (continuing) The one crawling with vulture droids.\n",
      "\n",
      "\n",
      "setup= OBI-WAN'S STARFIGHTER COCKPIT-SPACE\n",
      "OBI-WAN struggles to maintain control of his ship.\n",
      "OBI-WAN flies to the left of a huge tower on a REPUBLIC CRUISER. The TWO DROID DROP FIGHTERS follow.\n",
      "OBI-WAN deftly maneuvers around a large Starship's superstructure, but the TWO DROID FIGHTERS stay on his tail, BLASTING him with intense laser fire.\n",
      "ARTOO BEEPS his reply as ANAKIN swoops in for the kill. ANAKIN BLASTS one of the DROID DROP FIGHTERS. It EXPLODES.\n",
      "ANAKIN BLASTS away at the second DROID DROP FIGHTER as ARTOO BEEPS an angry warning.\n",
      "OBI-WAN dives toward the surface of one of the larger TRADE FEDERATION BATTLESHIPS and is forced to fly through a maelstrom of laser flack. He skims the surface, followed by the DROID DROP FIGHTER, which is followed by ANAKIN.\n",
      "ARTOO BEEPS. The crosshairs merge on the DROID DROP FIGHTER.\n",
      "OBI-WAN flies through a narrow gap between two towers on a Battleship. The DROID DROP FIGHTER hits one of Obi-Wan's wings with a laser blast, and parts of the ship go flying around Obi-Wan's Astro Droid, ARFOUR.\n",
      "R-4 BEEPS a blue streak.\n",
      "ANAKIN drops in behind the DROID DROP FIGHTER and blows him apart. ARTOO SQUEALS with delight.\n",
      "R-4 BEEPS a blue streak.\n",
      "ARTOO BEEPS a reply, and it reads out in Anakin's cockpit.\n",
      "\n",
      "dialogue=[{'character': 'obiwan', 'text': \"we've got to split them up. \"}, {'character': 'anakin', 'text': 'break left, fly through the guns on that tower. '}, {'character': 'obiwan', 'text': 'easy for you to say  why am i always the bait? '}, {'character': 'anakin', 'text': \"don't worry. i'm coming around behind you. \"}, {'character': 'obiwan', 'text': \"anakin, they're all over me! \"}, {'character': 'anakin', 'text': 'dead ahead! closing  lock onto him, artoo  '}, {'character': 'anakin', 'text': '(continuing, laughs) we got him, artoo! '}, {'character': 'anakin', 'text': 'i copy, artoo. '}, {'character': 'obiwan', 'text': \"i'm going down on the deck. \"}, {'character': 'anakin', 'text': 'good idea ... i need some room to maneuver. '}, {'character': 'anakin', 'text': \"(continuing) cut right. do you hear me?! cut right. don't let him get a handle on you. come on, artoo, lock on! lock on! \"}, {'character': 'obiwan', 'text': \"hurry up! i don't like this! \"}, {'character': 'obiwan', 'text': '(continuing) ouch! '}, {'character': 'obiwan', 'text': \"(continuing) don't even try to fix it, arfour. i've shut it down. \"}, {'character': 'anakin', 'text': \"we're locked on ... we've got him  \"}, {'character': 'anakin', 'text': '(continuing) yeah! we got him  good going, artoo. '}, {'character': 'obiwan', 'text': \"next time you're the bait  now let's find the command ship and get on with it ... \"}, {'character': 'anakin', 'text': \"lock onto them, artoo. master, general grievous's ship is directly ahead. \"}, {'character': 'anakin', 'text': '(continuing) the one crawling with vulture droids. '}]\n"
     ]
    }
   ],
   "source": [
    "\n",
    "\n",
    "split_scenes = [scene.split('INT.') for scene in script.split('EXT.')]\n",
    "split_scenes = [inner for outer in split_scenes for inner in outer]\n",
    "for i,scene in enumerate(split_scenes):\n",
    "    # d = scene_to_dialogue(scene)\n",
    "    if i<5:\n",
    "        continue\n",
    "    print('*********************************************')\n",
    "    print(i)\n",
    "    print(f'scene={scene}')\n",
    "    dialogue, setup = scene_to_dialogue_and_setup(scene)\n",
    "    print(f'setup={setup}')\n",
    "    print(f'dialogue={dialogue}')\n",
    "    \n",
    "    if i >= 5:\n",
    "        break\n",
    "    \n",
    "        \n",
    "    \n",
    "    \n",
    "    "
   ]
  },
  {
   "cell_type": "code",
   "execution_count": 64,
   "id": "c88c1d42-21a5-4f3b-bc17-68dd4d8f0faf",
   "metadata": {},
   "outputs": [
    {
     "data": {
      "text/plain": [
       "\" OBI-WAN'S STARFIGHTER COCKPIT-SPACE\\nOBI-WAN struggles to maintain control of his ship.\\nOBI-WAN flies to the left of a huge tower on a REPUBLIC CRUISER. The TWO DROID DROP FIGHTERS follow.\\nOBI-WAN deftly maneuvers around a large Starship's superstructure, but the TWO DROID FIGHTERS stay on his tail, BLASTING him with intense laser fire.\\nARTOO BEEPS his reply as ANAKIN swoops in for the kill. ANAKIN BLASTS one of the DROID DROP FIGHTERS. It EXPLODES.\\nANAKIN BLASTS away at the second DROID DROP FIGHTER as ARTOO BEEPS an angry warning.\\nOBI-WAN dives toward the surface of one of the larger TRADE FEDERATION BATTLESHIPS and is forced to fly through a maelstrom of laser flack. He skims the surface, followed by the DROID DROP FIGHTER, which is followed by ANAKIN.\\nARTOO BEEPS. The crosshairs merge on the DROID DROP FIGHTER.\\nOBI-WAN flies through a narrow gap between two towers on a Battleship. The DROID DROP FIGHTER hits one of Obi-Wan's wings with a laser blast, and parts of the ship go flying around Obi-Wan's Astro Droid, ARFOUR.\\nR-4 BEEPS a blue streak.\\nANAKIN drops in behind the DROID DROP FIGHTER and blows him apart. ARTOO SQUEALS with delight.\\nR-4 BEEPS a blue streak.\\nARTOO BEEPS a reply, and it reads out in Anakin's cockpit.\\n\""
      ]
     },
     "execution_count": 64,
     "metadata": {},
     "output_type": "execute_result"
    }
   ],
   "source": [
    "setup"
   ]
  },
  {
   "cell_type": "code",
   "execution_count": 69,
   "id": "d2eb2f80-ef6c-409b-b387-0749ae2cdb8f",
   "metadata": {},
   "outputs": [
    {
     "name": "stderr",
     "output_type": "stream",
     "text": [
      "The model 'GPT2LMHeadModel' is not supported for summarization. Supported models are ['BartForConditionalGeneration', 'BigBirdPegasusForConditionalGeneration', 'BlenderbotForConditionalGeneration', 'BlenderbotSmallForConditionalGeneration', 'EncoderDecoderModel', 'FSMTForConditionalGeneration', 'GPTSanJapaneseForConditionalGeneration', 'LEDForConditionalGeneration', 'LongT5ForConditionalGeneration', 'M2M100ForConditionalGeneration', 'MarianMTModel', 'MBartForConditionalGeneration', 'MT5ForConditionalGeneration', 'MvpForConditionalGeneration', 'NllbMoeForConditionalGeneration', 'PegasusForConditionalGeneration', 'PegasusXForConditionalGeneration', 'PLBartForConditionalGeneration', 'ProphetNetForConditionalGeneration', 'SwitchTransformersForConditionalGeneration', 'T5ForConditionalGeneration', 'XLMProphetNetForConditionalGeneration'].\n",
      "Setting `pad_token_id` to `eos_token_id`:50256 for open-end generation.\n",
      "Input length of input_ids is 398, but `max_length` is set to 20. This can lead to unexpected behavior. You should consider increasing `max_new_tokens`.\n"
     ]
    }
   ],
   "source": [
    "from transformers import pipeline, set_seed\n",
    "pipe = pipeline(\"summarization\", model=\"gpt2-xl\")\n",
    "\n",
    "pipe_out = pipe(setup)"
   ]
  },
  {
   "cell_type": "code",
   "execution_count": 70,
   "id": "bc1f7823-6c1e-4675-a712-c5eb6485be69",
   "metadata": {},
   "outputs": [
    {
     "data": {
      "text/plain": [
       "[{'summary_text': \" OBI-WAN'S STARFIGHTER COCKPIT-SPACE\\nOBI-WAN struggles to maintain control of his ship.\\nOBI-WAN flies to the left of a huge tower on a REPUBLIC CRUISER. The TWO DROID DROP FIGHTERS follow.\\nOBI-WAN deftly maneuvers around a large Starship's superstructure, but the TWO DROID FIGHTERS stay on his tail, BLASTING him with intense laser fire.\\nARTOO BEEPS his reply as ANAKIN swoops in for the kill. ANAKIN BLASTS one of the DROID DROP FIGHTERS. It EXPLODES.\\nANAKIN BLASTS away at the second DROID DROP FIGHTER as ARTOO BEEPS an angry warning.\\nOBI-WAN dives toward the surface of one of the larger TRADE FEDERATION BATTLESHIPS and is forced to fly through a maelstrom of laser flack. He skims the surface, followed by the DROID DROP FIGHTER, which is followed by ANAKIN.\\nARTOO BEEPS. The crosshairs merge on the DROID DROP FIGHTER.\\nOBI-WAN flies through a narrow gap between two towers on a Battleship. The DROID DROP FIGHTER hits one of Obi-Wan's wings with a laser blast, and parts of the ship go flying around Obi-Wan's Astro Droid, ARFOUR.\\nR-4 BEEPS a blue streak.\\nANAKIN drops in behind the DROID DROP FIGHTER and blows him apart. ARTOO SQUEALS with delight.\\nR-4 BEEPS a blue streak.\\nARTOO BEEPS a reply, and it reads out in Anakin's cockpit.\\nAN\"}]"
      ]
     },
     "execution_count": 70,
     "metadata": {},
     "output_type": "execute_result"
    }
   ],
   "source": [
    "pipe_out"
   ]
  },
  {
   "cell_type": "code",
   "execution_count": null,
   "id": "cbb278ee-7967-4ada-8c87-188b5ee7bf82",
   "metadata": {},
   "outputs": [],
   "source": []
  }
 ],
 "metadata": {
  "kernelspec": {
   "display_name": "Python 3 (ipykernel)",
   "language": "python",
   "name": "python3"
  },
  "language_info": {
   "codemirror_mode": {
    "name": "ipython",
    "version": 3
   },
   "file_extension": ".py",
   "mimetype": "text/x-python",
   "name": "python",
   "nbconvert_exporter": "python",
   "pygments_lexer": "ipython3",
   "version": "3.10.6"
  }
 },
 "nbformat": 4,
 "nbformat_minor": 5
}
